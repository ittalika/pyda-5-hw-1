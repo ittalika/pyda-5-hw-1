{
 "cells": [
  {
   "cell_type": "code",
   "execution_count": null,
   "metadata": {},
   "outputs": [],
   "source": [
    "import math\n",
    "figure=str(input(\"Введите тип фигуры: \"))\n",
    "if figure==\"круг\":\n",
    "    r=float(input(\"Введите радиус круга: \"))\n",
    "    S=(r**2)*math.pi\n",
    "    print (\"Результат:\")\n",
    "    print (\"Площадь круга:\", round (S, 2))\n",
    "elif figure==\"треугольник\":\n",
    "    a=float(input(\"Введите сторону A: \"))\n",
    "    b=float(input(\"Введите сторону B: \"))\n",
    "    c=float(input(\"Введите сторону C: \"))\n",
    "    p=(a+b+c)/2\n",
    "    S=math.sqrt((p*(p-a)*(p-b)*(p-c)))  \n",
    "    print (\"Результат:\")\n",
    "    print (\"Площадь треугольника:\", round (S, 2))\n",
    "elif figure==\"прямоугольник\":\n",
    "    a=float(input(\"Введите сторону A: \"))\n",
    "    b=float(input(\"Введите сторону B: \"))\n",
    "    S=a*b\n",
    "    print (\"Результат:\")\n",
    "    print (\"Площадь прямоугольника:\", round (S, 2))"
   ]
  },
  {
   "cell_type": "code",
   "execution_count": null,
   "metadata": {},
   "outputs": [],
   "source": []
  }
 ],
 "metadata": {
  "kernelspec": {
   "display_name": "Python 3",
   "language": "python",
   "name": "python3"
  },
  "language_info": {
   "codemirror_mode": {
    "name": "ipython",
    "version": 3
   },
   "file_extension": ".py",
   "mimetype": "text/x-python",
   "name": "python",
   "nbconvert_exporter": "python",
   "pygments_lexer": "ipython3",
   "version": "3.8.3"
  }
 },
 "nbformat": 4,
 "nbformat_minor": 4
}
