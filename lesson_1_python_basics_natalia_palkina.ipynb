{
 "cells": [
  {
   "cell_type": "code",
   "execution_count": 4,
   "metadata": {},
   "outputs": [
    {
     "name": "stdout",
     "output_type": "stream",
     "text": [
      "Результат:\n",
      "Фраза 2 длиннее фразы 1\n"
     ]
    }
   ],
   "source": [
    "phrase_1 = \"Мама мыла раму\"\n",
    "phrase_2 = \"Карл у Клары украл кораллы\"\n",
    "if len (phrase_1) > len (phrase_2):\n",
    "    print (\"Результат:\")\n",
    "    print (\"Фраза 1 длиннее фразы 2\")\n",
    "elif len (phrase_1) < len (phrase_2):\n",
    "    print (\"Результат:\")\n",
    "    print (\"Фраза 2 длиннее фразы 1\")\n",
    "else: \n",
    "    print (\"Результат:\")\n",
    "    print (\"Фразы равной длины\")"
   ]
  },
  {
   "cell_type": "code",
   "execution_count": 5,
   "metadata": {},
   "outputs": [
    {
     "name": "stdout",
     "output_type": "stream",
     "text": [
      "Результат:\n",
      "Обычный год\n"
     ]
    }
   ],
   "source": [
    "a = 2021\n",
    "if a/4 == a//4:\n",
    "    print (\"Результат:\")\n",
    "    print (\"Високосный год\")\n",
    "else:   \n",
    "    print (\"Результат:\")\n",
    "    print (\"Обычный год\")"
   ]
  },
  {
   "cell_type": "code",
   "execution_count": 6,
   "metadata": {},
   "outputs": [
    {
     "name": "stdout",
     "output_type": "stream",
     "text": [
      "Введите день: 12\n",
      "Введите название месяца: май\n",
      "Ваш результат:\n",
      "Знак зодиака — Телец\n"
     ]
    }
   ],
   "source": [
    "day = int(input(\"Введите день: \"))\n",
    "month = input(\"Введите название месяца: \")\n",
    "if (month == \"декабрь\" and day >= 22) or (month == \"январь\" and day <= 20):\n",
    "    print (\"Ваш результат:\")\n",
    "    print (\"Знак зодиака — Козерог\")  \n",
    "elif (month == \"январь\" and day >= 21) or (month == \"февраль\" and day <= 18):\n",
    "    print (\"Ваш результат:\")\n",
    "    print (\"Знак зодиака — Водолей\")\n",
    "elif (month == \"февраль\" and day >= 19) or (month == \"март\" and day <= 19):\n",
    "    print (\"Ваш результат:\")\n",
    "    print (\"Знак зодиака — Рыбы\")\n",
    "elif (month == \"март\" and day >= 20) or (month == \"апрель\" and day <= 19):\n",
    "    print (\"Ваш результат:\")\n",
    "    print (\"Знак зодиака — Овен\")\n",
    "elif (month == \"апрель\" and day >= 20) or (month == \"май\" and day <= 20):\n",
    "    print (\"Ваш результат:\")\n",
    "    print (\"Знак зодиака — Телец\")\n",
    "elif (month == \"май\" and day >= 21) or (month == \"июнь\" and day <= 20):\n",
    "    print (\"Ваш результат:\")\n",
    "    print (\"Знак зодиака — Близнецы\")\n",
    "elif (month == \"июнь\" and day >= 21) or (month == \"июль\" and day <= 21):\n",
    "    print (\"Ваш результат:\")\n",
    "    print (\"Знак зодиака — Рак\")\n",
    "elif (month == \"июль\" and day >= 22) or (month == \"август\" and day <= 22):\n",
    "    print (\"Ваш результат:\")\n",
    "    print (\"Знак зодиака — Лев\")\n",
    "elif (month == \"август\" and day >= 23) or (month == \"сентябрь\" and day <= 22):\n",
    "    print (\"Ваш результат:\")\n",
    "    print (\"Знак зодиака — Дева\")\n",
    "elif (month == \"сентябрь\" and day >= 23) or (month == \"октябрь\" and day <= 22):\n",
    "    print (\"Ваш результат:\")\n",
    "    print (\"Знак зодиака — Весы\")\n",
    "elif (month == \"октябрь\" and day >= 23) or (month == \"ноябрь\" and day <= 21):\n",
    "    print (\"Ваш результат:\")\n",
    "    print (\"Знак зодиака — Скорпион\")\n",
    "elif (month == \"ноябрь\" and day >= 22) or (month == \"декабрь\" and day <= 21):\n",
    "    print (\"Ваш результат:\")\n",
    "    print (\"Знак зодиака — Стрелец\")\n",
    "else: \n",
    "    print (\"Данные введены неправильно\")\n",
    "    print (\"Попробуйте еще раз\")"
   ]
  },
  {
   "cell_type": "code",
   "execution_count": 22,
   "metadata": {},
   "outputs": [
    {
     "name": "stdout",
     "output_type": "stream",
     "text": [
      "Упаковка для лыж\n"
     ]
    }
   ],
   "source": [
    "width = 16\n",
    "length = 202\n",
    "height = 51\n",
    "if (width < 15 and length < 15 and height < 15):\n",
    "    print (\"Коробка № 1\")\n",
    "elif (15 > width < 50 and length < 50 and height < 50) or (15 > length < 50 and width < 50 and height < 50) or (15 > height < 50 and width < 50 and length < 50):\n",
    "    print (\"Коробка № 2\")\n",
    "elif (length > 200):\n",
    "    print (\"Упаковка для лыж\")\n",
    "else:\n",
    "    print (\"Стандартная коробка № 3\")"
   ]
  },
  {
   "cell_type": "code",
   "execution_count": 1,
   "metadata": {},
   "outputs": [
    {
     "name": "stdout",
     "output_type": "stream",
     "text": [
      "Номер билета: 123321\n",
      "Ваш результат:\n",
      "Счастливый билет\n"
     ]
    }
   ],
   "source": [
    "number = int(input(\"Номер билета: \"))\n",
    "a = number//100000\n",
    "b = (number//10000) - (a*10) \n",
    "c = (number//1000) - (a*100 + b*10)\n",
    "d = (number//100) - (a*1000 + b*100 + c*10)\n",
    "e = (number//10) - (a*10000 + b*1000 + c*100 + d*10)\n",
    "f = number - ((a*100000) + (b*10000) + (c*1000) + (d*100) + (e*10))\n",
    "if a + b + c == d + e + f:\n",
    "    print (\"Ваш результат:\")\n",
    "    print (\"Счастливый билет\")\n",
    "elif a + b + c != d + e + f:\n",
    "    print (\"Ваш результат:\")\n",
    "    print (\"Несчастливый билет\")"
   ]
  },
  {
   "cell_type": "code",
   "execution_count": 1,
   "metadata": {},
   "outputs": [
    {
     "name": "stdout",
     "output_type": "stream",
     "text": [
      "Введите тип фигуры: круг\n",
      "Введите радиус круга: 10\n",
      "Результат:\n",
      "Площадь круга: 314.16\n"
     ]
    }
   ],
   "source": [
    "import math\n",
    "figure=str(input(\"Введите тип фигуры: \"))\n",
    "if figure==\"круг\":\n",
    "    r=float(input(\"Введите радиус круга: \"))\n",
    "    S=(r**2)*math.pi\n",
    "    print (\"Результат:\")\n",
    "    print (\"Площадь круга:\", round (S, 2))\n",
    "elif figure==\"треугольник\":\n",
    "    a=float(input(\"Введите сторону A: \"))\n",
    "    b=float(input(\"Введите сторону B: \"))\n",
    "    c=float(input(\"Введите сторону C: \"))\n",
    "    p=(a+b+c)/2\n",
    "    S=math.sqrt((p*(p-a)*(p-b)*(p-c)))  \n",
    "    print (\"Результат:\")\n",
    "    print (\"Площадь треугольника:\", round (S, 2))\n",
    "elif figure==\"прямоугольник\":\n",
    "    a=float(input(\"Введите сторону A: \"))\n",
    "    b=float(input(\"Введите сторону B: \"))\n",
    "    S=a*b\n",
    "    print (\"Результат:\")\n",
    "    print (\"Площадь прямоугольника:\", round (S, 2))"
   ]
  }
 ],
 "metadata": {
  "kernelspec": {
   "display_name": "Python 3",
   "language": "python",
   "name": "python3"
  },
  "language_info": {
   "codemirror_mode": {
    "name": "ipython",
    "version": 3
   },
   "file_extension": ".py",
   "mimetype": "text/x-python",
   "name": "python",
   "nbconvert_exporter": "python",
   "pygments_lexer": "ipython3",
   "version": "3.8.3"
  }
 },
 "nbformat": 4,
 "nbformat_minor": 4
}
